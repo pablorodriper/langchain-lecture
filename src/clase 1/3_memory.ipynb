{
 "cells": [
  {
   "cell_type": "code",
   "execution_count": null,
   "metadata": {},
   "outputs": [],
   "source": [
    "from utils import load_api_key\n",
    "API_KEY = load_api_key()"
   ]
  },
  {
   "cell_type": "markdown",
   "metadata": {},
   "source": [
    "# ChatHistory\n",
    "\n",
    "`ChatHistory` puede entenderse como una especie de memoria a corto plazo. Es necesario para mantener el hilo de la conversación actual\n",
    "\n",
    "#### Sin `ChatHistory`"
   ]
  },
  {
   "cell_type": "code",
   "execution_count": null,
   "metadata": {},
   "outputs": [],
   "source": [
    "from langchain_openai import ChatOpenAI\n",
    "llm = ChatOpenAI(model=\"gpt-4o-mini\", api_key=API_KEY)"
   ]
  },
  {
   "cell_type": "code",
   "execution_count": null,
   "metadata": {},
   "outputs": [],
   "source": [
    "llm.invoke(\"Hola, me llamo Pablo\")"
   ]
  },
  {
   "cell_type": "code",
   "execution_count": null,
   "metadata": {},
   "outputs": [],
   "source": [
    "llm.invoke(\"¿Te acuerdas de mi nombre?\")"
   ]
  },
  {
   "cell_type": "markdown",
   "metadata": {},
   "source": [
    "#### Con `ChatHistory`"
   ]
  },
  {
   "cell_type": "code",
   "execution_count": null,
   "metadata": {},
   "outputs": [],
   "source": [
    "from langchain_core.messages import HumanMessage"
   ]
  },
  {
   "cell_type": "code",
   "execution_count": null,
   "metadata": {},
   "outputs": [],
   "source": [
    "messages = []\n",
    "\n",
    "user_msg_1 = HumanMessage(\"Hola, me llamo Pablo\")\n",
    "messages.append(user_msg_1)\n",
    "\n",
    "ai_msg_1 = llm.invoke(messages)\n",
    "messages.append(ai_msg_1)\n",
    "\n",
    "user_msg_2 = HumanMessage(\"¿Te acuerdas de mi nombre?\")\n",
    "messages.append(user_msg_2)\n",
    "\n",
    "ai_msg_2 = llm.invoke(messages)\n",
    "messages.append(ai_msg_2)\n",
    "\n",
    "messages"
   ]
  },
  {
   "cell_type": "markdown",
   "metadata": {},
   "source": [
    "ATENCIÓN: Existe una manera más moderna de gestionar la memoria de una conversación mediante el paquete [LangGraph](https://python.langchain.com/docs/tutorials/chatbot/#message-persistence). Con el que además podremos gestionar el tamaño del contexto."
   ]
  },
  {
   "cell_type": "code",
   "execution_count": null,
   "metadata": {},
   "outputs": [],
   "source": []
  }
 ],
 "metadata": {
  "kernelspec": {
   "display_name": "Python 3 (ipykernel)",
   "language": "python",
   "name": "python3"
  },
  "language_info": {
   "codemirror_mode": {
    "name": "ipython",
    "version": 3
   },
   "file_extension": ".py",
   "mimetype": "text/x-python",
   "name": "python",
   "nbconvert_exporter": "python",
   "pygments_lexer": "ipython3",
   "version": "3.12.6"
  }
 },
 "nbformat": 4,
 "nbformat_minor": 4
}
