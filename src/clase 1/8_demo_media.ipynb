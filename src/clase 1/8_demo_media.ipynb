{
 "cells": [
  {
   "cell_type": "code",
   "execution_count": 1,
   "metadata": {},
   "outputs": [],
   "source": [
    "from utils import load_api_key\n",
    "API_KEY = load_api_key()"
   ]
  },
  {
   "cell_type": "code",
   "execution_count": 2,
   "metadata": {},
   "outputs": [],
   "source": [
    "#!pip install matplotlib -q"
   ]
  },
  {
   "cell_type": "markdown",
   "metadata": {},
   "source": [
    "# Objetivo: Implementar una tool"
   ]
  },
  {
   "cell_type": "code",
   "execution_count": 3,
   "metadata": {},
   "outputs": [],
   "source": [
    "from langchain_core.tools import tool\n",
    "\n",
    "@tool\n",
    "def multiplicar_numeros(num1: int, num2: int) -> int:\n",
    "    \"\"\"\n",
    "    Multiplies two integers and returns the result.\n",
    "\n",
    "    Args:\n",
    "        num1 (int): The first integer.\n",
    "        num2 (int): The second integer.\n",
    "\n",
    "    Returns:\n",
    "        int: The result of multiplying num1 and num2.\n",
    "    \"\"\"\n",
    "    return num1 * num2\n",
    "\n",
    "@tool\n",
    "def create_bar_plot(x_labels: list[str], heights: list[int | float], title: str = \"Bar Plot\", x_label: str = \"Categories\", y_label: str = \"Values\") -> None:\n",
    "    \"\"\"\n",
    "    Creates a bar plot using the given data.\n",
    "\n",
    "    Args:\n",
    "        x_labels (list[str]): The labels for the x-axis.\n",
    "        heights (list[int | float]): The heights of the bars.\n",
    "        title (str, optional): The title of the plot. Defaults to \"Bar Plot\".\n",
    "        x_label (str, optional): The label for the x-axis. Defaults to \"Categories\".\n",
    "        y_label (str, optional): The label for the y-axis. Defaults to \"Values\".\n",
    "    \"\"\"\n",
    "    import matplotlib.pyplot as plt\n",
    "    plt.figure(figsize=(10, 6))\n",
    "    plt.bar(x_labels, heights)\n",
    "\n",
    "    plt.title(title)\n",
    "    plt.xlabel(x_label)\n",
    "    plt.ylabel(y_label)\n",
    "    \n",
    "    plt.show()"
   ]
  },
  {
   "cell_type": "code",
   "execution_count": 5,
   "metadata": {},
   "outputs": [
    {
     "name": "stdout",
     "output_type": "stream",
     "text": [
      "Collecting loguru\n",
      "  Downloading loguru-0.7.3-py3-none-any.whl.metadata (22 kB)\n",
      "Downloading loguru-0.7.3-py3-none-any.whl (61 kB)\n",
      "Installing collected packages: loguru\n",
      "Successfully installed loguru-0.7.3\n",
      "\u001b[33mWARNING: Running pip as the 'root' user can result in broken permissions and conflicting behaviour with the system package manager, possibly rendering your system unusable.It is recommended to use a virtual environment instead: https://pip.pypa.io/warnings/venv. Use the --root-user-action option if you know what you are doing and want to suppress this warning.\u001b[0m\u001b[33m\n",
      "\u001b[0m\n",
      "\u001b[1m[\u001b[0m\u001b[34;49mnotice\u001b[0m\u001b[1;39;49m]\u001b[0m\u001b[39;49m A new release of pip is available: \u001b[0m\u001b[31;49m24.2\u001b[0m\u001b[39;49m -> \u001b[0m\u001b[32;49m25.0.1\u001b[0m\n",
      "\u001b[1m[\u001b[0m\u001b[34;49mnotice\u001b[0m\u001b[1;39;49m]\u001b[0m\u001b[39;49m To update, run: \u001b[0m\u001b[32;49mpip install --upgrade pip\u001b[0m\n"
     ]
    }
   ],
   "source": [
    "!pip install loguru"
   ]
  },
  {
   "cell_type": "code",
   "execution_count": 21,
   "metadata": {},
   "outputs": [],
   "source": [
    "from langchain_core.messages import HumanMessage, SystemMessage\n",
    "\n",
    "class personalChatModel:\n",
    "    def __init__(self, llm, tools):\n",
    "        self.llm = llm.bind_tools([t for t in tools.values()])\n",
    "        self.tools = tools\n",
    "        self.messages = []\n",
    "\n",
    "\n",
    "    def save_message_to_memory(self, message):\n",
    "        if isinstance(message, str):\n",
    "            message = HumanMessage(message)\n",
    "        self.messages.append(message)\n",
    "\n",
    "\n",
    "    def ask(self, question):\n",
    "        self.save_message_to_memory(question)\n",
    "\n",
    "        ai_msg = self.llm.invoke(self.messages)\n",
    "        self.messages.append(ai_msg)\n",
    "\n",
    "        if not ai_msg.tool_calls:\n",
    "            return ai_msg.content\n",
    "        print(ai_msg.pretty_print())\n",
    "        \n",
    "        for tool_call in ai_msg.tool_calls:\n",
    "            tool_msg = self.tools[tool_call[\"name\"]].invoke(tool_call)\n",
    "            print(tool_msg.pretty_print())\n",
    "            self.messages.append(tool_msg)\n",
    "        \n",
    "        ai_msg = self.llm.invoke(self.messages)\n",
    "        print(ai_msg.pretty_print())\n",
    "        self.messages.append(ai_msg)\n",
    "        return ai_msg.content"
   ]
  },
  {
   "cell_type": "code",
   "execution_count": 22,
   "metadata": {},
   "outputs": [],
   "source": [
    "from langchain_openai import ChatOpenAI\n",
    "llm = ChatOpenAI(model=\"gpt-4o-mini\", api_key=API_KEY)\n",
    "tools = {\"multiplicar_numeros\": multiplicar_numeros, \"create_bar_plot\": create_bar_plot}\n",
    "chat_tool = personalChatModel(llm, tools)"
   ]
  },
  {
   "cell_type": "code",
   "execution_count": 24,
   "metadata": {},
   "outputs": [
    {
     "data": {
      "text/plain": [
       "'Santiago de Compostela es la capital de la comunidad autónoma de Galicia, en el noroeste de España. Es conocida por ser un importante lugar de peregrinación, ya que alberga la catedral donde se cree que están los restos del apóstol Santiago. La ciudad tiene un rico patrimonio histórico y cultural y es famosa por su casco antiguo, que ha sido declarado Patrimonio de la Humanidad por la UNESCO. Si necesitas más información sobre Santiago de Compostela, no dudes en preguntar.'"
      ]
     },
     "execution_count": 24,
     "metadata": {},
     "output_type": "execute_result"
    }
   ],
   "source": [
    "chat_tool.ask(\"Donde está Santiago de Compostela?\")"
   ]
  },
  {
   "cell_type": "code",
   "execution_count": 25,
   "metadata": {},
   "outputs": [
    {
     "name": "stdout",
     "output_type": "stream",
     "text": [
      "==================================\u001b[1m Ai Message \u001b[0m==================================\n",
      "Tool Calls:\n",
      "  create_bar_plot (call_g0nJ8sdKZ1151lv7Em9hm4E7)\n",
      " Call ID: call_g0nJ8sdKZ1151lv7Em9hm4E7\n",
      "  Args:\n",
      "    x_labels: ['Mercurio', 'Venus', 'Tierra', 'Marte', 'Júpiter', 'Saturno', 'Urano', 'Neptuno']\n",
      "    heights: [57.91, 108.2, 149.6, 227.9, 778.5, 1427, 2871, 4497]\n",
      "    title: Distancias de los Planetas del Sistema Solar al Sol (en millones de km)\n",
      "    x_label: Planetas\n",
      "    y_label: Distancia (millones de km)\n",
      "None\n"
     ]
    },
    {
     "data": {
      "image/png": "[encoded data removed]",
      "text/plain": [
       "<Figure size 1000x600 with 1 Axes>"
      ]
     },
     "metadata": {},
     "output_type": "display_data"
    },
    {
     "name": "stdout",
     "output_type": "stream",
     "text": [
      "=================================\u001b[1m Tool Message \u001b[0m=================================\n",
      "Name: create_bar_plot\n",
      "\n",
      "null\n",
      "None\n",
      "==================================\u001b[1m Ai Message \u001b[0m==================================\n",
      "\n",
      "He creado un gráfico de barras que muestra las distancias de los planetas del sistema solar al Sol, en millones de kilómetros. Aquí tienes la información:\n",
      "\n",
      "- **Mercurio**: 57.91 millones de km\n",
      "- **Venus**: 108.2 millones de km\n",
      "- **Tierra**: 149.6 millones de km\n",
      "- **Marte**: 227.9 millones de km\n",
      "- **Júpiter**: 778.5 millones de km\n",
      "- **Saturno**: 1427 millones de km\n",
      "- **Urano**: 2871 millones de km\n",
      "- **Neptuno**: 4497 millones de km\n",
      "\n",
      "Si deseas visualizar el gráfico o necesitas más información, házmelo saber.\n",
      "None\n"
     ]
    },
    {
     "data": {
      "text/plain": [
       "'He creado un gráfico de barras que muestra las distancias de los planetas del sistema solar al Sol, en millones de kilómetros. Aquí tienes la información:\\n\\n- **Mercurio**: 57.91 millones de km\\n- **Venus**: 108.2 millones de km\\n- **Tierra**: 149.6 millones de km\\n- **Marte**: 227.9 millones de km\\n- **Júpiter**: 778.5 millones de km\\n- **Saturno**: 1427 millones de km\\n- **Urano**: 2871 millones de km\\n- **Neptuno**: 4497 millones de km\\n\\nSi deseas visualizar el gráfico o necesitas más información, házmelo saber.'"
      ]
     },
     "execution_count": 25,
     "metadata": {},
     "output_type": "execute_result"
    }
   ],
   "source": [
    "chat_tool.ask(\"Crea un gráfico de barras con las distancias de los planetas del sistema solar al sol\")"
   ]
  },
  {
   "cell_type": "code",
   "execution_count": 26,
   "metadata": {},
   "outputs": [
    {
     "data": {
      "text/plain": [
       "[HumanMessage(content='Donde está Santiago?', additional_kwargs={}, response_metadata={}),\n",
       " AIMessage(content='Santiago es la capital de Chile y está ubicada en el valle central del país, rodeada de montañas. Es una de las ciudades más grandes y pobladas de Chile, y es un importante centro cultural, político y económico. Si necesitas información más específica sobre su ubicación o características, házmelo saber.', additional_kwargs={'refusal': None}, response_metadata={'token_usage': {'completion_tokens': 65, 'prompt_tokens': 249, 'total_tokens': 314, 'completion_tokens_details': {'accepted_prediction_tokens': 0, 'audio_tokens': 0, 'reasoning_tokens': 0, 'rejected_prediction_tokens': 0}, 'prompt_tokens_details': {'audio_tokens': 0, 'cached_tokens': 0}}, 'model_name': 'gpt-4o-mini-2024-07-18', 'system_fingerprint': 'fp_06737a9306', 'finish_reason': 'stop', 'logprobs': None}, id='run-151f5f56-5bab-4999-b21c-5a0ad464a164-0', usage_metadata={'input_tokens': 249, 'output_tokens': 65, 'total_tokens': 314, 'input_token_details': {'audio': 0, 'cache_read': 0}, 'output_token_details': {'audio': 0, 'reasoning': 0}}),\n",
       " HumanMessage(content='Donde está Santiago de Compostela?', additional_kwargs={}, response_metadata={}),\n",
       " AIMessage(content='Santiago de Compostela es la capital de la comunidad autónoma de Galicia, en el noroeste de España. Es conocida por ser un importante lugar de peregrinación, ya que alberga la catedral donde se cree que están los restos del apóstol Santiago. La ciudad tiene un rico patrimonio histórico y cultural y es famosa por su casco antiguo, que ha sido declarado Patrimonio de la Humanidad por la UNESCO. Si necesitas más información sobre Santiago de Compostela, no dudes en preguntar.', additional_kwargs={'refusal': None}, response_metadata={'token_usage': {'completion_tokens': 102, 'prompt_tokens': 327, 'total_tokens': 429, 'completion_tokens_details': {'accepted_prediction_tokens': 0, 'audio_tokens': 0, 'reasoning_tokens': 0, 'rejected_prediction_tokens': 0}, 'prompt_tokens_details': {'audio_tokens': 0, 'cached_tokens': 0}}, 'model_name': 'gpt-4o-mini-2024-07-18', 'system_fingerprint': 'fp_06737a9306', 'finish_reason': 'stop', 'logprobs': None}, id='run-9b800ad6-92f4-4711-9fc0-c0dd844ff864-0', usage_metadata={'input_tokens': 327, 'output_tokens': 102, 'total_tokens': 429, 'input_token_details': {'audio': 0, 'cache_read': 0}, 'output_token_details': {'audio': 0, 'reasoning': 0}}),\n",
       " HumanMessage(content='Crea un gráfico de barras con las distancias de los planetas del sistema solar al sol', additional_kwargs={}, response_metadata={}),\n",
       " AIMessage(content='', additional_kwargs={'tool_calls': [{'id': 'call_g0nJ8sdKZ1151lv7Em9hm4E7', 'function': {'arguments': '{\"x_labels\":[\"Mercurio\",\"Venus\",\"Tierra\",\"Marte\",\"Júpiter\",\"Saturno\",\"Urano\",\"Neptuno\"],\"heights\":[57.91,108.2,149.6,227.9,778.5,1427,2871,4497],\"title\":\"Distancias de los Planetas del Sistema Solar al Sol (en millones de km)\",\"x_label\":\"Planetas\",\"y_label\":\"Distancia (millones de km)\"}', 'name': 'create_bar_plot'}, 'type': 'function'}], 'refusal': None}, response_metadata={'token_usage': {'completion_tokens': 112, 'prompt_tokens': 454, 'total_tokens': 566, 'completion_tokens_details': {'accepted_prediction_tokens': 0, 'audio_tokens': 0, 'reasoning_tokens': 0, 'rejected_prediction_tokens': 0}, 'prompt_tokens_details': {'audio_tokens': 0, 'cached_tokens': 0}}, 'model_name': 'gpt-4o-mini-2024-07-18', 'system_fingerprint': 'fp_06737a9306', 'finish_reason': 'tool_calls', 'logprobs': None}, id='run-42c2c8d1-1a89-443e-84f6-87fb94196985-0', tool_calls=[{'name': 'create_bar_plot', 'args': {'x_labels': ['Mercurio', 'Venus', 'Tierra', 'Marte', 'Júpiter', 'Saturno', 'Urano', 'Neptuno'], 'heights': [57.91, 108.2, 149.6, 227.9, 778.5, 1427, 2871, 4497], 'title': 'Distancias de los Planetas del Sistema Solar al Sol (en millones de km)', 'x_label': 'Planetas', 'y_label': 'Distancia (millones de km)'}, 'id': 'call_g0nJ8sdKZ1151lv7Em9hm4E7', 'type': 'tool_call'}], usage_metadata={'input_tokens': 454, 'output_tokens': 112, 'total_tokens': 566, 'input_token_details': {'audio': 0, 'cache_read': 0}, 'output_token_details': {'audio': 0, 'reasoning': 0}}),\n",
       " ToolMessage(content='null', name='create_bar_plot', tool_call_id='call_g0nJ8sdKZ1151lv7Em9hm4E7'),\n",
       " AIMessage(content='He creado un gráfico de barras que muestra las distancias de los planetas del sistema solar al Sol, en millones de kilómetros. Aquí tienes la información:\\n\\n- **Mercurio**: 57.91 millones de km\\n- **Venus**: 108.2 millones de km\\n- **Tierra**: 149.6 millones de km\\n- **Marte**: 227.9 millones de km\\n- **Júpiter**: 778.5 millones de km\\n- **Saturno**: 1427 millones de km\\n- **Urano**: 2871 millones de km\\n- **Neptuno**: 4497 millones de km\\n\\nSi deseas visualizar el gráfico o necesitas más información, házmelo saber.', additional_kwargs={'refusal': None}, response_metadata={'token_usage': {'completion_tokens': 159, 'prompt_tokens': 575, 'total_tokens': 734, 'completion_tokens_details': {'accepted_prediction_tokens': 0, 'audio_tokens': 0, 'reasoning_tokens': 0, 'rejected_prediction_tokens': 0}, 'prompt_tokens_details': {'audio_tokens': 0, 'cached_tokens': 0}}, 'model_name': 'gpt-4o-mini-2024-07-18', 'system_fingerprint': 'fp_06737a9306', 'finish_reason': 'stop', 'logprobs': None}, id='run-ba819e9c-a40c-498c-9afd-157d51acef26-0', usage_metadata={'input_tokens': 575, 'output_tokens': 159, 'total_tokens': 734, 'input_token_details': {'audio': 0, 'cache_read': 0}, 'output_token_details': {'audio': 0, 'reasoning': 0}})]"
      ]
     },
     "execution_count": 26,
     "metadata": {},
     "output_type": "execute_result"
    }
   ],
   "source": [
    "chat_tool.messages"
   ]
  }
 ],
 "metadata": {
  "kernelspec": {
   "display_name": "Python 3 (ipykernel)",
   "language": "python",
   "name": "python3"
  },
  "language_info": {
   "codemirror_mode": {
    "name": "ipython",
    "version": 3
   },
   "file_extension": ".py",
   "mimetype": "text/x-python",
   "name": "python",
   "nbconvert_exporter": "python",
   "pygments_lexer": "ipython3",
   "version": "3.12.6"
  }
 },
 "nbformat": 4,
 "nbformat_minor": 4
}
