{
 "cells": [
  {
   "cell_type": "code",
   "execution_count": null,
   "metadata": {},
   "outputs": [],
   "source": [
    "from utils import load_api_key\n",
    "API_KEY = load_api_key()"
   ]
  },
  {
   "cell_type": "code",
   "execution_count": null,
   "metadata": {},
   "outputs": [],
   "source": [
    "#!pip install colorama -q"
   ]
  },
  {
   "cell_type": "markdown",
   "metadata": {},
   "source": [
    "# Objetivo: Enfrentar dos LLMs"
   ]
  },
  {
   "cell_type": "code",
   "execution_count": null,
   "metadata": {},
   "outputs": [],
   "source": [
    "from textwrap import dedent  # Útil cuando trabajéis con archivos .py\n",
    "\n",
    "from colorama import Fore, Style, init\n",
    "\n",
    "from langchain_core.messages import HumanMessage, AIMessage, SystemMessage\n",
    "from langchain_core.output_parsers import StrOutputParser\n",
    "from langchain_core.prompts import ChatPromptTemplate, MessagesPlaceholder  # Nuevo\n",
    "\n",
    "from langchain_community.chat_message_histories import ChatMessageHistory  # Nuevo"
   ]
  },
  {
   "cell_type": "code",
   "execution_count": null,
   "metadata": {},
   "outputs": [],
   "source": [
    "from langchain_openai import ChatOpenAI\n",
    "llm = ChatOpenAI(model=\"gpt-4o-mini\", api_key=API_KEY)"
   ]
  },
  {
   "cell_type": "code",
   "execution_count": null,
   "metadata": {},
   "outputs": [],
   "source": [
    "SYSTEM_PROMPT = dedent(\"\"\"\n",
    "    Eres {name} y debes comportarte como tal tanto en tu estilo de escritura como en tus opiniones.\n",
    "    Sé siempre consecuente con tu personaje en todos los debates en los que participes.\n",
    "    Nunca te salgas del personaje, bajo ningún concepto.\n",
    "    Debes defender tu postura siempre a no ser que tu rival tenga un argumento mejor que el tuyo.\n",
    "    En ese caso, dale la razón y da por terminado el debate. Tus intervenciones no pueden ser superiores a 5 líneas.\n",
    "    \n",
    "    El tema de debate es el siguiente: {topic}\n",
    "\"\"\")"
   ]
  },
  {
   "cell_type": "code",
   "execution_count": null,
   "metadata": {},
   "outputs": [],
   "source": [
    "class Character:\n",
    "    def __init__(self, name: str):\n",
    "        self.name = name\n",
    "        self.chat_history = ChatMessageHistory()\n",
    "\n",
    "    def answer(self, msg: str, topic: str, color_fmt: str = Fore.RED):\n",
    "        # Guarda las respuestas del otro interlocutor\n",
    "        # Este if solamente NO se cumple con el primer mensaje\n",
    "        if msg:\n",
    "            self.chat_history.add_user_message(HumanMessage(msg))\n",
    "\n",
    "        prompt_template = ChatPromptTemplate.from_messages([\n",
    "            (\"system\", SYSTEM_PROMPT),\n",
    "            MessagesPlaceholder(\"messages\")     # Placeholder donde se guardarán la lista de mensajes \"messages\"\n",
    "        ])\n",
    "\n",
    "        chain = prompt_template | llm | StrOutputParser()\n",
    "\n",
    "        total_msg = \"\"\n",
    "        print(f\"\\n\\n{color_fmt}{self.name}: {Style.RESET_ALL}\\n\\n\")\n",
    "\n",
    "        for chunk in chain.stream({\"name\": self.name, \"topic\": topic, \"messages\": self.chat_history.messages}):\n",
    "            print(f\"{color_fmt}{chunk}{Style.RESET_ALL}\", end=\"\", flush=True)\n",
    "            total_msg += chunk\n",
    "\n",
    "        return total_msg"
   ]
  },
  {
   "cell_type": "code",
   "execution_count": null,
   "metadata": {},
   "outputs": [],
   "source": [
    "class DialogueSimulator:\n",
    "    def __init__(self, character1: Character, character2: Character):\n",
    "        self.character1 = character1\n",
    "        self.character2 = character2\n",
    "\n",
    "    def run(self, topic: str, rounds: int = 3):\n",
    "        output = self.character1.answer(msg=\"\", topic=topic)\n",
    "\n",
    "        for _ in range(rounds):\n",
    "            output = self.character2.answer(msg=output, topic=topic, color_fmt=Fore.GREEN)\n",
    "            output = self.character1.answer(msg=output, topic=topic)"
   ]
  },
  {
   "cell_type": "code",
   "execution_count": null,
   "metadata": {},
   "outputs": [],
   "source": [
    "character_1 = Character(name=\"Albert Einstein\")\n",
    "character_2 = Character(name=\"Winston Churchill\")\n",
    "\n",
    "dialogue_simulator = DialogueSimulator(character_1, character_2)\n",
    "\n",
    "dialogue_simulator.run(topic=\"La mejor comida del mundo\", rounds=2)"
   ]
  },
  {
   "cell_type": "code",
   "execution_count": null,
   "metadata": {},
   "outputs": [],
   "source": []
  }
 ],
 "metadata": {
  "kernelspec": {
   "display_name": "Python 3 (ipykernel)",
   "language": "python",
   "name": "python3"
  },
  "language_info": {
   "codemirror_mode": {
    "name": "ipython",
    "version": 3
   },
   "file_extension": ".py",
   "mimetype": "text/x-python",
   "name": "python",
   "nbconvert_exporter": "python",
   "pygments_lexer": "ipython3",
   "version": "3.12.6"
  }
 },
 "nbformat": 4,
 "nbformat_minor": 4
}
