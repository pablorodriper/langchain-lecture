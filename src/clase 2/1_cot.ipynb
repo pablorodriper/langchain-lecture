{
 "cells": [
  {
   "cell_type": "code",
   "execution_count": null,
   "metadata": {},
   "outputs": [],
   "source": [
    "from utils import load_api_key, streaming_print\n",
    "API_KEY = load_api_key()"
   ]
  },
  {
   "cell_type": "markdown",
   "metadata": {},
   "source": [
    "# Chain of Thoughts"
   ]
  },
  {
   "cell_type": "code",
   "execution_count": null,
   "metadata": {},
   "outputs": [],
   "source": [
    "from langchain_openai import ChatOpenAI\n",
    "llm = ChatOpenAI(model=\"gpt-4o-mini\", api_key=API_KEY)"
   ]
  },
  {
   "cell_type": "code",
   "execution_count": null,
   "metadata": {},
   "outputs": [],
   "source": [
    "llm.invoke(\"¿Cuántas 'r' hay en 'strawberry'?\").pretty_print()"
   ]
  },
  {
   "cell_type": "code",
   "execution_count": null,
   "metadata": {},
   "outputs": [],
   "source": [
    "# Few shot prompting\n",
    "streaming_print(llm, \"\"\"Pregunta: ¿Cuántas 'R' tiene la palabra 'fresa'?\n",
    "Respuesta: La palabra fresa tiene 1 'R'.\n",
    "\n",
    "Pregunta: ¿Cuántas 'R' tiene la palabra 'arroyo'?\n",
    "Respuesta: La palabra arroyo tiene 2 'R'.\n",
    "\n",
    "Pregunta: ¿Cuántas 'R' tiene la palabra 'strawberry'?\n",
    "Respuesta:\n",
    "\"\"\")"
   ]
  },
  {
   "cell_type": "code",
   "execution_count": null,
   "metadata": {},
   "outputs": [],
   "source": [
    "# Chain of thought\n",
    "streaming_print(llm, \"\"\"Pregunta: ¿Cuántas 'R' hay en 'fresa'?\n",
    "Para resolver esta pregunta voy a deletrear la palabra 'fresa' y contar si es una 'R' o no\n",
    "Voy a deletrear la palabra 'fresa'. \n",
    "- F: no hay 'R', \n",
    "- R: sí hay 'R', \n",
    "- E: no hay 'R', \n",
    "- S: no hay 'R', \n",
    "- A: no hay 'R',               \n",
    "Respuesta: En total hay una 'R' en 'fresa'\n",
    "\n",
    "Pregunta: ¿Cuántas 'R' hay en 'arroyo'?\n",
    "Para resolver esta pregunta voy a deletrear la palabra 'arroyo' y contar si es una 'R' o no\n",
    "Voy a deletrear la palabra 'arroyo'. \n",
    "- A: no hay 'R', \n",
    "- R: sí hay 'R',\n",
    "- R: sí hay 'R', \n",
    "- O: no hay 'R', \n",
    "- Y: no hay 'R', \n",
    "- O: no hay 'R',\n",
    "Respuesta: En total hay dos 'R' en 'arroyo'\n",
    "\n",
    "Pregunta: ¿Cuántas 'R' hay en 'strawberry'?\n",
    "\"\"\")"
   ]
  },
  {
   "cell_type": "code",
   "execution_count": null,
   "metadata": {},
   "outputs": [],
   "source": [
    "streaming_print(llm, \"¿Cuántas 'r' hay en 'strawberry'? Piensa paso a paso.\")"
   ]
  },
  {
   "cell_type": "markdown",
   "metadata": {},
   "source": [
    "# Modelos razonadores"
   ]
  },
  {
   "cell_type": "code",
   "execution_count": null,
   "metadata": {},
   "outputs": [],
   "source": [
    "from langchain_openai import ChatOpenAI\n",
    "llm = ChatOpenAI(model=\"o3-mini\", api_key=API_KEY)"
   ]
  },
  {
   "cell_type": "code",
   "execution_count": null,
   "metadata": {},
   "outputs": [],
   "source": [
    "response = llm.invoke(\"¿Cuántas 'r' hay en 'strawberry'?\")\n",
    "response.pretty_print()"
   ]
  },
  {
   "cell_type": "code",
   "execution_count": null,
   "metadata": {},
   "outputs": [],
   "source": [
    "response.response_metadata"
   ]
  },
  {
   "cell_type": "markdown",
   "metadata": {},
   "source": [
    "# Ollama"
   ]
  },
  {
   "cell_type": "code",
   "execution_count": null,
   "metadata": {},
   "outputs": [],
   "source": [
    "# # Download the model\n",
    "# ollama serve\n",
    "# ollama pull ollama pull deepseek-r1:7b\n",
    " \n",
    "from langchain_ollama import ChatOllama\n",
    "llm = ChatOllama(model=\"deepseek-r1:7b\")\n"
   ]
  },
  {
   "cell_type": "code",
   "execution_count": null,
   "metadata": {},
   "outputs": [],
   "source": [
    "streaming_print(llm, \"¿Cuántas 'r' hay en 'strawberry'?\")"
   ]
  },
  {
   "cell_type": "code",
   "execution_count": null,
   "metadata": {
    "scrolled": true
   },
   "outputs": [],
   "source": [
    "from IPython.display import Markdown\n",
    "Markdown(\"\"\"<think>\n",
    "Primero, observo que la palabra es \"strawberry\". Decido separar cada letra para facilitar el conteo.\n",
    "\n",
    "Luego, identifico las letras que son \"r\". En este caso, hay dos letras: la primera y la tercera.\n",
    "\n",
    "Finalmente, concluyo que hay dos \"r\" en total.\n",
    "</think>\n",
    "\n",
    "¡Claro! Vamos a determinar cuántas veces aparece la letra **'r'** en la palabra **\"strawberry\"**.\n",
    "\n",
    "1. **Analiza cada letra de la palabra:**\n",
    "\n",
    "   | Posición | Letra |\n",
    "   |----------|-------|\n",
    "   | 1        | s     |\n",
    "   | 2        | t     |\n",
    "   | 3        | r     |\n",
    "   | 4        | a     |\n",
    "   | 5        | w     |\n",
    "   | 6        | b     |\n",
    "   | 7        | e     |\n",
    "   | 8        | r     |\n",
    "   | 9        | r     |\n",
    "\n",
    "2. **Identifica las letras que son 'r':**\n",
    "\n",
    "   - Posición 3: **r**\n",
    "   - Posición 8: **r**\n",
    "   - Posición 9: **r**\n",
    "\n",
    "3. **Cuenta el número total de 'r's:**\n",
    "\n",
    "   Hay **3** letras 'r' en la palabra \"strawberry\".\n",
    "\"\"\")"
   ]
  },
  {
   "cell_type": "code",
   "execution_count": null,
   "metadata": {},
   "outputs": [],
   "source": []
  }
 ],
 "metadata": {
  "kernelspec": {
   "display_name": ".venv",
   "language": "python",
   "name": "python3"
  },
  "language_info": {
   "codemirror_mode": {
    "name": "ipython",
    "version": 3
   },
   "file_extension": ".py",
   "mimetype": "text/x-python",
   "name": "python",
   "nbconvert_exporter": "python",
   "pygments_lexer": "ipython3",
   "version": "3.11.2"
  }
 },
 "nbformat": 4,
 "nbformat_minor": 4
}
