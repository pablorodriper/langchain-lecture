{
 "cells": [
  {
   "cell_type": "code",
   "execution_count": null,
   "metadata": {},
   "outputs": [],
   "source": [
    "from utils import load_api_key\n",
    "API_KEY = load_api_key()"
   ]
  },
  {
   "cell_type": "code",
   "execution_count": null,
   "metadata": {},
   "outputs": [],
   "source": [
    "!pip uninstall langchain-openai -y\n",
    "!pip install crewai\n",
    "!pip install crewai-tools --upgrade"
   ]
  },
  {
   "cell_type": "markdown",
   "metadata": {},
   "source": [
    "# Multi-agent demo"
   ]
  },
  {
   "cell_type": "code",
   "execution_count": null,
   "metadata": {
    "scrolled": true
   },
   "outputs": [],
   "source": [
    "from crewai import Crew, Agent, Task, LLM\n",
    "from crewai_tools import ScrapeWebsiteTool\n",
    "\n",
    "# os.environ[\"OPENAI_API_KEY\"] = \"sk-proj-xxxx-xxxxx\""
   ]
  },
  {
   "cell_type": "code",
   "execution_count": null,
   "metadata": {},
   "outputs": [],
   "source": [
    "tool = ScrapeWebsiteTool(\n",
    "    website_url=\"https://en.wikipedia.org/wiki/Llama_(language_model)\",\n",
    ")"
   ]
  },
  {
   "cell_type": "markdown",
   "metadata": {},
   "source": [
    "## Creamos los agentes"
   ]
  },
  {
   "cell_type": "code",
   "execution_count": null,
   "metadata": {},
   "outputs": [],
   "source": [
    "#llm = LLM(model=\"ollama/llama3.2\")\n",
    "llm = LLM(model=\"gpt-4o-mini\")"
   ]
  },
  {
   "cell_type": "code",
   "execution_count": null,
   "metadata": {},
   "outputs": [],
   "source": [
    "scrapper_agent = Agent(\n",
    "    role=\"Agente Scraper\",\n",
    "    goal=\"Este agente hace web scraping de la página de Wikipedia sobre los modelos de Llama\",\n",
    "    backstory=\"Eres un ávido lector de Wikipedia\",\n",
    "    llm=llm,\n",
    "    verbose=True,\n",
    "    allow_delegation=False,\n",
    "    tools=[tool],\n",
    ")"
   ]
  },
  {
   "cell_type": "code",
   "execution_count": null,
   "metadata": {},
   "outputs": [],
   "source": [
    "translator_agent = Agent(\n",
    "    role=\"Agente Traductor\",\n",
    "    goal=\"Tu objetivo es traducir del inglés al español\",\n",
    "    backstory=\"Eres un experto traductor de inglés\",\n",
    "    llm=llm,\n",
    "    verbose=True,\n",
    "    allow_delegation=False,\n",
    "    # tools=[tool],\n",
    ")"
   ]
  },
  {
   "cell_type": "markdown",
   "metadata": {},
   "source": [
    "# Creamos las Tasks"
   ]
  },
  {
   "cell_type": "code",
   "execution_count": null,
   "metadata": {},
   "outputs": [],
   "source": [
    "scraping_task = Task(\n",
    "    description=\"Scraping del contenido de la página de Wikipedia sobre los modelos de Llama. Solo quiero el contenido principal. No guardes imágenes ni tablas ni headers ni footers.\",\n",
    "    expected_output=\"Un resumen del contenido de la página\",\n",
    "    agent=scrapper_agent,\n",
    ")"
   ]
  },
  {
   "cell_type": "code",
   "execution_count": null,
   "metadata": {},
   "outputs": [],
   "source": [
    "translation_task = Task(\n",
    "    description=\"Traducción de texto a español\",\n",
    "    expected_output=\"Un resumen del contenido de la página traducida al español\",\n",
    "    agent=translator_agent,\n",
    "    output_file=\"multiagent_output.txt\",\n",
    ")"
   ]
  },
  {
   "cell_type": "code",
   "execution_count": null,
   "metadata": {},
   "outputs": [],
   "source": [
    "crew = Crew(\n",
    "    agents=[scrapper_agent, translator_agent],\n",
    "    tasks=[scraping_task, translation_task],\n",
    "    verbose=True,\n",
    ")"
   ]
  },
  {
   "cell_type": "code",
   "execution_count": null,
   "metadata": {
    "scrolled": true
   },
   "outputs": [],
   "source": [
    "response = crew.kickoff()\n",
    "response"
   ]
  },
  {
   "cell_type": "code",
   "execution_count": null,
   "metadata": {},
   "outputs": [],
   "source": [
    "response.dict()"
   ]
  },
  {
   "cell_type": "markdown",
   "metadata": {},
   "source": [
    "[CrewAI Docs](https://docs.crewai.com/concepts/agents)"
   ]
  }
 ],
 "metadata": {
  "kernelspec": {
   "display_name": "Python 3 (ipykernel)",
   "language": "python",
   "name": "python3"
  },
  "language_info": {
   "codemirror_mode": {
    "name": "ipython",
    "version": 3
   },
   "file_extension": ".py",
   "mimetype": "text/x-python",
   "name": "python",
   "nbconvert_exporter": "python",
   "pygments_lexer": "ipython3",
   "version": "3.12.6"
  }
 },
 "nbformat": 4,
 "nbformat_minor": 4
}
